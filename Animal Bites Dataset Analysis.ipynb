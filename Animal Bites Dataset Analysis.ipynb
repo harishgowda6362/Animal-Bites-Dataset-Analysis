{
 "cells": [
  {
   "cell_type": "markdown",
   "id": "8fd2155d-af5a-4bea-9ba8-ce789c9d2e26",
   "metadata": {},
   "source": [
    "# Project Title : Animal Bites Dataset Analysis\n",
    "\n",
    "# Purpose \n",
    "            The \"Animal Bites Dataset Analysis\" project aims to explore and analyze a comprehensive dataset containing information on animal bites. Leveraging Python programming along with the powerful data manipulation capabilities of Pandas and visualization tools like Matplotlib, the project seeks to uncover insights into patterns, trends, and risk factors associated with animal bites. By delving into factors such as geographical location, animal species, victim demographics, and severity of injuries, the analysis endeavors to provide valuable information for public health interventions, wildlife management strategies, and community awareness campaigns aimed at reducing the incidence of animal bites and mitigating their consequences.\n",
    "           "
   ]
  },
  {
   "cell_type": "markdown",
   "id": "6d24179c-c6df-4d04-9464-ebfc512ec20a",
   "metadata": {},
   "source": [
    "## Step 0: Installing the packages beforehand"
   ]
  },
  {
   "cell_type": "code",
   "execution_count": 46,
   "id": "2f5e2b34-12e6-4e43-a36c-662de392b60e",
   "metadata": {},
   "outputs": [
    {
     "name": "stdout",
     "output_type": "stream",
     "text": [
      "Requirement already satisfied: pandas in c:\\users\\haris\\appdata\\local\\programs\\python\\python312\\lib\\site-packages (2.2.2)\n",
      "Requirement already satisfied: numpy>=1.26.0 in c:\\users\\haris\\appdata\\local\\programs\\python\\python312\\lib\\site-packages (from pandas) (1.26.4)\n",
      "Requirement already satisfied: python-dateutil>=2.8.2 in c:\\users\\haris\\appdata\\local\\programs\\python\\python312\\lib\\site-packages (from pandas) (2.9.0.post0)\n",
      "Requirement already satisfied: pytz>=2020.1 in c:\\users\\haris\\appdata\\local\\programs\\python\\python312\\lib\\site-packages (from pandas) (2024.1)\n",
      "Requirement already satisfied: tzdata>=2022.7 in c:\\users\\haris\\appdata\\local\\programs\\python\\python312\\lib\\site-packages (from pandas) (2024.1)\n",
      "Requirement already satisfied: six>=1.5 in c:\\users\\haris\\appdata\\local\\programs\\python\\python312\\lib\\site-packages (from python-dateutil>=2.8.2->pandas) (1.16.0)\n",
      "Requirement already satisfied: matplotlib in c:\\users\\haris\\appdata\\local\\programs\\python\\python312\\lib\\site-packages (3.8.4)\n",
      "Requirement already satisfied: contourpy>=1.0.1 in c:\\users\\haris\\appdata\\local\\programs\\python\\python312\\lib\\site-packages (from matplotlib) (1.2.1)\n",
      "Requirement already satisfied: cycler>=0.10 in c:\\users\\haris\\appdata\\local\\programs\\python\\python312\\lib\\site-packages (from matplotlib) (0.12.1)\n",
      "Requirement already satisfied: fonttools>=4.22.0 in c:\\users\\haris\\appdata\\local\\programs\\python\\python312\\lib\\site-packages (from matplotlib) (4.51.0)\n",
      "Requirement already satisfied: kiwisolver>=1.3.1 in c:\\users\\haris\\appdata\\local\\programs\\python\\python312\\lib\\site-packages (from matplotlib) (1.4.5)\n",
      "Requirement already satisfied: numpy>=1.21 in c:\\users\\haris\\appdata\\local\\programs\\python\\python312\\lib\\site-packages (from matplotlib) (1.26.4)\n",
      "Requirement already satisfied: packaging>=20.0 in c:\\users\\haris\\appdata\\local\\programs\\python\\python312\\lib\\site-packages (from matplotlib) (24.0)\n",
      "Requirement already satisfied: pillow>=8 in c:\\users\\haris\\appdata\\local\\programs\\python\\python312\\lib\\site-packages (from matplotlib) (10.3.0)\n",
      "Requirement already satisfied: pyparsing>=2.3.1 in c:\\users\\haris\\appdata\\local\\programs\\python\\python312\\lib\\site-packages (from matplotlib) (3.1.2)\n",
      "Requirement already satisfied: python-dateutil>=2.7 in c:\\users\\haris\\appdata\\local\\programs\\python\\python312\\lib\\site-packages (from matplotlib) (2.9.0.post0)\n",
      "Requirement already satisfied: six>=1.5 in c:\\users\\haris\\appdata\\local\\programs\\python\\python312\\lib\\site-packages (from python-dateutil>=2.7->matplotlib) (1.16.0)\n",
      "Collecting seaborn\n",
      "  Downloading seaborn-0.13.2-py3-none-any.whl.metadata (5.4 kB)\n",
      "Requirement already satisfied: numpy!=1.24.0,>=1.20 in c:\\users\\haris\\appdata\\local\\programs\\python\\python312\\lib\\site-packages (from seaborn) (1.26.4)\n",
      "Requirement already satisfied: pandas>=1.2 in c:\\users\\haris\\appdata\\local\\programs\\python\\python312\\lib\\site-packages (from seaborn) (2.2.2)\n",
      "Requirement already satisfied: matplotlib!=3.6.1,>=3.4 in c:\\users\\haris\\appdata\\local\\programs\\python\\python312\\lib\\site-packages (from seaborn) (3.8.4)\n",
      "Requirement already satisfied: contourpy>=1.0.1 in c:\\users\\haris\\appdata\\local\\programs\\python\\python312\\lib\\site-packages (from matplotlib!=3.6.1,>=3.4->seaborn) (1.2.1)\n",
      "Requirement already satisfied: cycler>=0.10 in c:\\users\\haris\\appdata\\local\\programs\\python\\python312\\lib\\site-packages (from matplotlib!=3.6.1,>=3.4->seaborn) (0.12.1)\n",
      "Requirement already satisfied: fonttools>=4.22.0 in c:\\users\\haris\\appdata\\local\\programs\\python\\python312\\lib\\site-packages (from matplotlib!=3.6.1,>=3.4->seaborn) (4.51.0)\n",
      "Requirement already satisfied: kiwisolver>=1.3.1 in c:\\users\\haris\\appdata\\local\\programs\\python\\python312\\lib\\site-packages (from matplotlib!=3.6.1,>=3.4->seaborn) (1.4.5)\n",
      "Requirement already satisfied: packaging>=20.0 in c:\\users\\haris\\appdata\\local\\programs\\python\\python312\\lib\\site-packages (from matplotlib!=3.6.1,>=3.4->seaborn) (24.0)\n",
      "Requirement already satisfied: pillow>=8 in c:\\users\\haris\\appdata\\local\\programs\\python\\python312\\lib\\site-packages (from matplotlib!=3.6.1,>=3.4->seaborn) (10.3.0)\n",
      "Requirement already satisfied: pyparsing>=2.3.1 in c:\\users\\haris\\appdata\\local\\programs\\python\\python312\\lib\\site-packages (from matplotlib!=3.6.1,>=3.4->seaborn) (3.1.2)\n",
      "Requirement already satisfied: python-dateutil>=2.7 in c:\\users\\haris\\appdata\\local\\programs\\python\\python312\\lib\\site-packages (from matplotlib!=3.6.1,>=3.4->seaborn) (2.9.0.post0)\n",
      "Requirement already satisfied: pytz>=2020.1 in c:\\users\\haris\\appdata\\local\\programs\\python\\python312\\lib\\site-packages (from pandas>=1.2->seaborn) (2024.1)\n",
      "Requirement already satisfied: tzdata>=2022.7 in c:\\users\\haris\\appdata\\local\\programs\\python\\python312\\lib\\site-packages (from pandas>=1.2->seaborn) (2024.1)\n",
      "Requirement already satisfied: six>=1.5 in c:\\users\\haris\\appdata\\local\\programs\\python\\python312\\lib\\site-packages (from python-dateutil>=2.7->matplotlib!=3.6.1,>=3.4->seaborn) (1.16.0)\n",
      "Downloading seaborn-0.13.2-py3-none-any.whl (294 kB)\n",
      "   ---------------------------------------- 0.0/294.9 kB ? eta -:--:--\n",
      "   - -------------------------------------- 10.2/294.9 kB ? eta -:--:--\n",
      "   ----- --------------------------------- 41.0/294.9 kB 991.0 kB/s eta 0:00:01\n",
      "   ------------------- -------------------- 143.4/294.9 kB 1.7 MB/s eta 0:00:01\n",
      "   --------------------------- ------------ 204.8/294.9 kB 2.1 MB/s eta 0:00:01\n",
      "   ---------------------------------------- 294.9/294.9 kB 1.8 MB/s eta 0:00:00\n",
      "Installing collected packages: seaborn\n",
      "Successfully installed seaborn-0.13.2\n"
     ]
    }
   ],
   "source": [
    "!pip install pandas\n",
    "!pip install matplotlib\n",
    "!pip install seaborn"
   ]
  },
  {
   "cell_type": "markdown",
   "id": "9778b9f3-becb-4855-819f-719277babae6",
   "metadata": {},
   "source": [
    "## Step 1: Import necessary packages for data manipulation and visualization"
   ]
  },
  {
   "cell_type": "code",
   "execution_count": 5,
   "id": "2d1777eb-51eb-4dca-b303-06678851973a",
   "metadata": {},
   "outputs": [],
   "source": [
    "import pandas as pd        #data Manipulation\n",
    "import matplotlib as mpl   #data Visualiszation  "
   ]
  },
  {
   "cell_type": "markdown",
   "id": "a691218d-c88d-47d2-920e-aa762d31eedd",
   "metadata": {},
   "source": [
    "## Step 2: Loading the files from the local system to the Notebook"
   ]
  },
  {
   "cell_type": "code",
   "execution_count": 6,
   "id": "4e1b4f70-fdbe-48f0-aed6-62d560aa8b28",
   "metadata": {},
   "outputs": [
    {
     "data": {
      "text/html": [
       "<div>\n",
       "<style scoped>\n",
       "    .dataframe tbody tr th:only-of-type {\n",
       "        vertical-align: middle;\n",
       "    }\n",
       "\n",
       "    .dataframe tbody tr th {\n",
       "        vertical-align: top;\n",
       "    }\n",
       "\n",
       "    .dataframe thead th {\n",
       "        text-align: right;\n",
       "    }\n",
       "</style>\n",
       "<table border=\"1\" class=\"dataframe\">\n",
       "  <thead>\n",
       "    <tr style=\"text-align: right;\">\n",
       "      <th></th>\n",
       "      <th>bite_date</th>\n",
       "      <th>SpeciesIDDesc</th>\n",
       "      <th>BreedIDDesc</th>\n",
       "      <th>GenderIDDesc</th>\n",
       "      <th>color</th>\n",
       "      <th>vaccination_yrs</th>\n",
       "      <th>vaccination_date</th>\n",
       "      <th>victim_zip</th>\n",
       "      <th>AdvIssuedYNDesc</th>\n",
       "      <th>WhereBittenIDDesc</th>\n",
       "      <th>quarantine_date</th>\n",
       "      <th>DispositionIDDesc</th>\n",
       "      <th>head_sent_date</th>\n",
       "      <th>release_date</th>\n",
       "      <th>ResultsIDDesc</th>\n",
       "    </tr>\n",
       "  </thead>\n",
       "  <tbody>\n",
       "    <tr>\n",
       "      <th>0</th>\n",
       "      <td>1985-05-05 0:00:00</td>\n",
       "      <td>DOG</td>\n",
       "      <td>NaN</td>\n",
       "      <td>FEMALE</td>\n",
       "      <td>LIG. BROWN</td>\n",
       "      <td>1.0</td>\n",
       "      <td>1985-06-20 0:00:00</td>\n",
       "      <td>40229</td>\n",
       "      <td>NO</td>\n",
       "      <td>BODY</td>\n",
       "      <td>1985-05-05 0:00:00</td>\n",
       "      <td>UNKNOWN</td>\n",
       "      <td>NaN</td>\n",
       "      <td>NaN</td>\n",
       "      <td>UNKNOWN</td>\n",
       "    </tr>\n",
       "    <tr>\n",
       "      <th>1</th>\n",
       "      <td>1986-02-12 0:00:00</td>\n",
       "      <td>DOG</td>\n",
       "      <td>NaN</td>\n",
       "      <td>UNKNOWN</td>\n",
       "      <td>BRO &amp; BLA</td>\n",
       "      <td>NaN</td>\n",
       "      <td>NaN</td>\n",
       "      <td>40218</td>\n",
       "      <td>NO</td>\n",
       "      <td>BODY</td>\n",
       "      <td>1986-02-12 0:00:00</td>\n",
       "      <td>UNKNOWN</td>\n",
       "      <td>NaN</td>\n",
       "      <td>NaN</td>\n",
       "      <td>UNKNOWN</td>\n",
       "    </tr>\n",
       "    <tr>\n",
       "      <th>2</th>\n",
       "      <td>1987-05-07 0:00:00</td>\n",
       "      <td>DOG</td>\n",
       "      <td>NaN</td>\n",
       "      <td>UNKNOWN</td>\n",
       "      <td>NaN</td>\n",
       "      <td>NaN</td>\n",
       "      <td>NaN</td>\n",
       "      <td>40219</td>\n",
       "      <td>NO</td>\n",
       "      <td>BODY</td>\n",
       "      <td>1990-05-07 0:00:00</td>\n",
       "      <td>UNKNOWN</td>\n",
       "      <td>NaN</td>\n",
       "      <td>NaN</td>\n",
       "      <td>UNKNOWN</td>\n",
       "    </tr>\n",
       "    <tr>\n",
       "      <th>3</th>\n",
       "      <td>1988-10-02 0:00:00</td>\n",
       "      <td>DOG</td>\n",
       "      <td>NaN</td>\n",
       "      <td>MALE</td>\n",
       "      <td>BLA &amp; BRO</td>\n",
       "      <td>NaN</td>\n",
       "      <td>NaN</td>\n",
       "      <td>NaN</td>\n",
       "      <td>NO</td>\n",
       "      <td>BODY</td>\n",
       "      <td>1990-10-02 0:00:00</td>\n",
       "      <td>UNKNOWN</td>\n",
       "      <td>NaN</td>\n",
       "      <td>NaN</td>\n",
       "      <td>UNKNOWN</td>\n",
       "    </tr>\n",
       "    <tr>\n",
       "      <th>4</th>\n",
       "      <td>1989-08-29 0:00:00</td>\n",
       "      <td>DOG</td>\n",
       "      <td>NaN</td>\n",
       "      <td>FEMALE</td>\n",
       "      <td>BLK-WHT</td>\n",
       "      <td>NaN</td>\n",
       "      <td>NaN</td>\n",
       "      <td>NaN</td>\n",
       "      <td>NO</td>\n",
       "      <td>BODY</td>\n",
       "      <td>NaN</td>\n",
       "      <td>UNKNOWN</td>\n",
       "      <td>NaN</td>\n",
       "      <td>NaN</td>\n",
       "      <td>UNKNOWN</td>\n",
       "    </tr>\n",
       "  </tbody>\n",
       "</table>\n",
       "</div>"
      ],
      "text/plain": [
       "            bite_date SpeciesIDDesc BreedIDDesc GenderIDDesc       color  \\\n",
       "0  1985-05-05 0:00:00           DOG         NaN       FEMALE  LIG. BROWN   \n",
       "1  1986-02-12 0:00:00           DOG         NaN      UNKNOWN   BRO & BLA   \n",
       "2  1987-05-07 0:00:00           DOG         NaN      UNKNOWN         NaN   \n",
       "3  1988-10-02 0:00:00           DOG         NaN         MALE   BLA & BRO   \n",
       "4  1989-08-29 0:00:00           DOG         NaN       FEMALE     BLK-WHT   \n",
       "\n",
       "   vaccination_yrs    vaccination_date victim_zip AdvIssuedYNDesc  \\\n",
       "0              1.0  1985-06-20 0:00:00      40229              NO   \n",
       "1              NaN                 NaN      40218              NO   \n",
       "2              NaN                 NaN      40219              NO   \n",
       "3              NaN                 NaN        NaN              NO   \n",
       "4              NaN                 NaN        NaN              NO   \n",
       "\n",
       "  WhereBittenIDDesc     quarantine_date DispositionIDDesc head_sent_date  \\\n",
       "0              BODY  1985-05-05 0:00:00           UNKNOWN            NaN   \n",
       "1              BODY  1986-02-12 0:00:00           UNKNOWN            NaN   \n",
       "2              BODY  1990-05-07 0:00:00           UNKNOWN            NaN   \n",
       "3              BODY  1990-10-02 0:00:00           UNKNOWN            NaN   \n",
       "4              BODY                 NaN           UNKNOWN            NaN   \n",
       "\n",
       "  release_date ResultsIDDesc  \n",
       "0          NaN       UNKNOWN  \n",
       "1          NaN       UNKNOWN  \n",
       "2          NaN       UNKNOWN  \n",
       "3          NaN       UNKNOWN  \n",
       "4          NaN       UNKNOWN  "
      ]
     },
     "execution_count": 6,
     "metadata": {},
     "output_type": "execute_result"
    }
   ],
   "source": [
    "# Load the files\n",
    "\n",
    "data=pd.read_csv(\"C:/Users/haris/Downloads/Health_AnimalBites - Health_AnimalBites.csv\")\n",
    "data.head()"
   ]
  },
  {
   "cell_type": "markdown",
   "id": "20ae89ad-df94-4ac3-9875-235e2e250b54",
   "metadata": {},
   "source": [
    "## Step 3: Data View"
   ]
  },
  {
   "cell_type": "code",
   "execution_count": 7,
   "id": "2abf128a-0046-4ab4-a99c-34ccced7adcd",
   "metadata": {},
   "outputs": [
    {
     "data": {
      "text/html": [
       "<div>\n",
       "<style scoped>\n",
       "    .dataframe tbody tr th:only-of-type {\n",
       "        vertical-align: middle;\n",
       "    }\n",
       "\n",
       "    .dataframe tbody tr th {\n",
       "        vertical-align: top;\n",
       "    }\n",
       "\n",
       "    .dataframe thead th {\n",
       "        text-align: right;\n",
       "    }\n",
       "</style>\n",
       "<table border=\"1\" class=\"dataframe\">\n",
       "  <thead>\n",
       "    <tr style=\"text-align: right;\">\n",
       "      <th></th>\n",
       "      <th>bite_date</th>\n",
       "      <th>SpeciesIDDesc</th>\n",
       "      <th>BreedIDDesc</th>\n",
       "      <th>GenderIDDesc</th>\n",
       "      <th>color</th>\n",
       "      <th>vaccination_yrs</th>\n",
       "      <th>vaccination_date</th>\n",
       "      <th>victim_zip</th>\n",
       "      <th>AdvIssuedYNDesc</th>\n",
       "      <th>WhereBittenIDDesc</th>\n",
       "      <th>quarantine_date</th>\n",
       "      <th>DispositionIDDesc</th>\n",
       "      <th>head_sent_date</th>\n",
       "      <th>release_date</th>\n",
       "      <th>ResultsIDDesc</th>\n",
       "    </tr>\n",
       "  </thead>\n",
       "  <tbody>\n",
       "    <tr>\n",
       "      <th>0</th>\n",
       "      <td>1985-05-05 0:00:00</td>\n",
       "      <td>DOG</td>\n",
       "      <td>NaN</td>\n",
       "      <td>FEMALE</td>\n",
       "      <td>LIG. BROWN</td>\n",
       "      <td>1.0</td>\n",
       "      <td>1985-06-20 0:00:00</td>\n",
       "      <td>40229</td>\n",
       "      <td>NO</td>\n",
       "      <td>BODY</td>\n",
       "      <td>1985-05-05 0:00:00</td>\n",
       "      <td>UNKNOWN</td>\n",
       "      <td>NaN</td>\n",
       "      <td>NaN</td>\n",
       "      <td>UNKNOWN</td>\n",
       "    </tr>\n",
       "    <tr>\n",
       "      <th>1</th>\n",
       "      <td>1986-02-12 0:00:00</td>\n",
       "      <td>DOG</td>\n",
       "      <td>NaN</td>\n",
       "      <td>UNKNOWN</td>\n",
       "      <td>BRO &amp; BLA</td>\n",
       "      <td>NaN</td>\n",
       "      <td>NaN</td>\n",
       "      <td>40218</td>\n",
       "      <td>NO</td>\n",
       "      <td>BODY</td>\n",
       "      <td>1986-02-12 0:00:00</td>\n",
       "      <td>UNKNOWN</td>\n",
       "      <td>NaN</td>\n",
       "      <td>NaN</td>\n",
       "      <td>UNKNOWN</td>\n",
       "    </tr>\n",
       "    <tr>\n",
       "      <th>2</th>\n",
       "      <td>1987-05-07 0:00:00</td>\n",
       "      <td>DOG</td>\n",
       "      <td>NaN</td>\n",
       "      <td>UNKNOWN</td>\n",
       "      <td>NaN</td>\n",
       "      <td>NaN</td>\n",
       "      <td>NaN</td>\n",
       "      <td>40219</td>\n",
       "      <td>NO</td>\n",
       "      <td>BODY</td>\n",
       "      <td>1990-05-07 0:00:00</td>\n",
       "      <td>UNKNOWN</td>\n",
       "      <td>NaN</td>\n",
       "      <td>NaN</td>\n",
       "      <td>UNKNOWN</td>\n",
       "    </tr>\n",
       "    <tr>\n",
       "      <th>3</th>\n",
       "      <td>1988-10-02 0:00:00</td>\n",
       "      <td>DOG</td>\n",
       "      <td>NaN</td>\n",
       "      <td>MALE</td>\n",
       "      <td>BLA &amp; BRO</td>\n",
       "      <td>NaN</td>\n",
       "      <td>NaN</td>\n",
       "      <td>NaN</td>\n",
       "      <td>NO</td>\n",
       "      <td>BODY</td>\n",
       "      <td>1990-10-02 0:00:00</td>\n",
       "      <td>UNKNOWN</td>\n",
       "      <td>NaN</td>\n",
       "      <td>NaN</td>\n",
       "      <td>UNKNOWN</td>\n",
       "    </tr>\n",
       "    <tr>\n",
       "      <th>4</th>\n",
       "      <td>1989-08-29 0:00:00</td>\n",
       "      <td>DOG</td>\n",
       "      <td>NaN</td>\n",
       "      <td>FEMALE</td>\n",
       "      <td>BLK-WHT</td>\n",
       "      <td>NaN</td>\n",
       "      <td>NaN</td>\n",
       "      <td>NaN</td>\n",
       "      <td>NO</td>\n",
       "      <td>BODY</td>\n",
       "      <td>NaN</td>\n",
       "      <td>UNKNOWN</td>\n",
       "      <td>NaN</td>\n",
       "      <td>NaN</td>\n",
       "      <td>UNKNOWN</td>\n",
       "    </tr>\n",
       "  </tbody>\n",
       "</table>\n",
       "</div>"
      ],
      "text/plain": [
       "            bite_date SpeciesIDDesc BreedIDDesc GenderIDDesc       color  \\\n",
       "0  1985-05-05 0:00:00           DOG         NaN       FEMALE  LIG. BROWN   \n",
       "1  1986-02-12 0:00:00           DOG         NaN      UNKNOWN   BRO & BLA   \n",
       "2  1987-05-07 0:00:00           DOG         NaN      UNKNOWN         NaN   \n",
       "3  1988-10-02 0:00:00           DOG         NaN         MALE   BLA & BRO   \n",
       "4  1989-08-29 0:00:00           DOG         NaN       FEMALE     BLK-WHT   \n",
       "\n",
       "   vaccination_yrs    vaccination_date victim_zip AdvIssuedYNDesc  \\\n",
       "0              1.0  1985-06-20 0:00:00      40229              NO   \n",
       "1              NaN                 NaN      40218              NO   \n",
       "2              NaN                 NaN      40219              NO   \n",
       "3              NaN                 NaN        NaN              NO   \n",
       "4              NaN                 NaN        NaN              NO   \n",
       "\n",
       "  WhereBittenIDDesc     quarantine_date DispositionIDDesc head_sent_date  \\\n",
       "0              BODY  1985-05-05 0:00:00           UNKNOWN            NaN   \n",
       "1              BODY  1986-02-12 0:00:00           UNKNOWN            NaN   \n",
       "2              BODY  1990-05-07 0:00:00           UNKNOWN            NaN   \n",
       "3              BODY  1990-10-02 0:00:00           UNKNOWN            NaN   \n",
       "4              BODY                 NaN           UNKNOWN            NaN   \n",
       "\n",
       "  release_date ResultsIDDesc  \n",
       "0          NaN       UNKNOWN  \n",
       "1          NaN       UNKNOWN  \n",
       "2          NaN       UNKNOWN  \n",
       "3          NaN       UNKNOWN  \n",
       "4          NaN       UNKNOWN  "
      ]
     },
     "execution_count": 7,
     "metadata": {},
     "output_type": "execute_result"
    }
   ],
   "source": [
    "data.head()    # prints the first 5 rows of the dataset"
   ]
  },
  {
   "cell_type": "markdown",
   "id": "16f6a9cd-8831-41e0-aef1-ddcceb95903c",
   "metadata": {},
   "source": [
    "### Data shape"
   ]
  },
  {
   "cell_type": "code",
   "execution_count": 6,
   "id": "ea6066f4-b45b-492a-9577-b7a242635647",
   "metadata": {},
   "outputs": [
    {
     "name": "stdout",
     "output_type": "stream",
     "text": [
      "rows= 9003\n",
      "columns= 15\n"
     ]
    }
   ],
   "source": [
    "# it shows number of rows and columns present in the dataset\n",
    "print(\"rows=\",data.shape[0])\n",
    "print(\"columns=\",data.shape[1])"
   ]
  },
  {
   "cell_type": "markdown",
   "id": "d97e4c7e-bb31-4bc0-ac5f-797cb374ddca",
   "metadata": {},
   "source": [
    "### Data Tail"
   ]
  },
  {
   "cell_type": "code",
   "execution_count": 7,
   "id": "b038c66c-d6e7-4f7c-85d7-198e4e9e33f0",
   "metadata": {},
   "outputs": [
    {
     "data": {
      "text/html": [
       "<div>\n",
       "<style scoped>\n",
       "    .dataframe tbody tr th:only-of-type {\n",
       "        vertical-align: middle;\n",
       "    }\n",
       "\n",
       "    .dataframe tbody tr th {\n",
       "        vertical-align: top;\n",
       "    }\n",
       "\n",
       "    .dataframe thead th {\n",
       "        text-align: right;\n",
       "    }\n",
       "</style>\n",
       "<table border=\"1\" class=\"dataframe\">\n",
       "  <thead>\n",
       "    <tr style=\"text-align: right;\">\n",
       "      <th></th>\n",
       "      <th>bite_date</th>\n",
       "      <th>SpeciesIDDesc</th>\n",
       "      <th>BreedIDDesc</th>\n",
       "      <th>GenderIDDesc</th>\n",
       "      <th>color</th>\n",
       "      <th>vaccination_yrs</th>\n",
       "      <th>vaccination_date</th>\n",
       "      <th>victim_zip</th>\n",
       "      <th>AdvIssuedYNDesc</th>\n",
       "      <th>WhereBittenIDDesc</th>\n",
       "      <th>quarantine_date</th>\n",
       "      <th>DispositionIDDesc</th>\n",
       "      <th>head_sent_date</th>\n",
       "      <th>release_date</th>\n",
       "      <th>ResultsIDDesc</th>\n",
       "    </tr>\n",
       "  </thead>\n",
       "  <tbody>\n",
       "    <tr>\n",
       "      <th>8998</th>\n",
       "      <td>2017-09-05 0:00:00</td>\n",
       "      <td>DOG</td>\n",
       "      <td>NaN</td>\n",
       "      <td>NaN</td>\n",
       "      <td>NaN</td>\n",
       "      <td>NaN</td>\n",
       "      <td>NaN</td>\n",
       "      <td>40243</td>\n",
       "      <td>NaN</td>\n",
       "      <td>UNKNOWN</td>\n",
       "      <td>NaN</td>\n",
       "      <td>NaN</td>\n",
       "      <td>NaN</td>\n",
       "      <td>NaN</td>\n",
       "      <td>NaN</td>\n",
       "    </tr>\n",
       "    <tr>\n",
       "      <th>8999</th>\n",
       "      <td>2017-09-07 0:00:00</td>\n",
       "      <td>DOG</td>\n",
       "      <td>POMERANIAN</td>\n",
       "      <td>MALE</td>\n",
       "      <td>RED</td>\n",
       "      <td>NaN</td>\n",
       "      <td>NaN</td>\n",
       "      <td>40204</td>\n",
       "      <td>NaN</td>\n",
       "      <td>HEAD</td>\n",
       "      <td>NaN</td>\n",
       "      <td>NaN</td>\n",
       "      <td>NaN</td>\n",
       "      <td>NaN</td>\n",
       "      <td>NaN</td>\n",
       "    </tr>\n",
       "    <tr>\n",
       "      <th>9000</th>\n",
       "      <td>2017-09-07 0:00:00</td>\n",
       "      <td>DOG</td>\n",
       "      <td>LABRADOR RETRIV</td>\n",
       "      <td>MALE</td>\n",
       "      <td>BROWN</td>\n",
       "      <td>NaN</td>\n",
       "      <td>NaN</td>\n",
       "      <td>47130</td>\n",
       "      <td>NaN</td>\n",
       "      <td>UNKNOWN</td>\n",
       "      <td>NaN</td>\n",
       "      <td>NaN</td>\n",
       "      <td>NaN</td>\n",
       "      <td>NaN</td>\n",
       "      <td>NaN</td>\n",
       "    </tr>\n",
       "    <tr>\n",
       "      <th>9001</th>\n",
       "      <td>2017-09-07 0:00:00</td>\n",
       "      <td>DOG</td>\n",
       "      <td>LABRADOR RETRIV</td>\n",
       "      <td>FEMALE</td>\n",
       "      <td>BLK WHT</td>\n",
       "      <td>NaN</td>\n",
       "      <td>NaN</td>\n",
       "      <td>40229</td>\n",
       "      <td>NaN</td>\n",
       "      <td>BODY</td>\n",
       "      <td>NaN</td>\n",
       "      <td>NaN</td>\n",
       "      <td>NaN</td>\n",
       "      <td>NaN</td>\n",
       "      <td>NaN</td>\n",
       "    </tr>\n",
       "    <tr>\n",
       "      <th>9002</th>\n",
       "      <td>2017-09-07 0:00:00</td>\n",
       "      <td>DOG</td>\n",
       "      <td>BOXER</td>\n",
       "      <td>NaN</td>\n",
       "      <td>BRN BLK</td>\n",
       "      <td>NaN</td>\n",
       "      <td>NaN</td>\n",
       "      <td>40229</td>\n",
       "      <td>NaN</td>\n",
       "      <td>BODY</td>\n",
       "      <td>NaN</td>\n",
       "      <td>NaN</td>\n",
       "      <td>NaN</td>\n",
       "      <td>NaN</td>\n",
       "      <td>NaN</td>\n",
       "    </tr>\n",
       "  </tbody>\n",
       "</table>\n",
       "</div>"
      ],
      "text/plain": [
       "               bite_date SpeciesIDDesc      BreedIDDesc GenderIDDesc    color  \\\n",
       "8998  2017-09-05 0:00:00           DOG              NaN          NaN      NaN   \n",
       "8999  2017-09-07 0:00:00           DOG       POMERANIAN         MALE      RED   \n",
       "9000  2017-09-07 0:00:00           DOG  LABRADOR RETRIV         MALE    BROWN   \n",
       "9001  2017-09-07 0:00:00           DOG  LABRADOR RETRIV       FEMALE  BLK WHT   \n",
       "9002  2017-09-07 0:00:00           DOG            BOXER          NaN  BRN BLK   \n",
       "\n",
       "      vaccination_yrs vaccination_date victim_zip AdvIssuedYNDesc  \\\n",
       "8998              NaN              NaN      40243             NaN   \n",
       "8999              NaN              NaN      40204             NaN   \n",
       "9000              NaN              NaN      47130             NaN   \n",
       "9001              NaN              NaN      40229             NaN   \n",
       "9002              NaN              NaN      40229             NaN   \n",
       "\n",
       "     WhereBittenIDDesc quarantine_date DispositionIDDesc head_sent_date  \\\n",
       "8998           UNKNOWN             NaN               NaN            NaN   \n",
       "8999              HEAD             NaN               NaN            NaN   \n",
       "9000           UNKNOWN             NaN               NaN            NaN   \n",
       "9001              BODY             NaN               NaN            NaN   \n",
       "9002              BODY             NaN               NaN            NaN   \n",
       "\n",
       "     release_date ResultsIDDesc  \n",
       "8998          NaN           NaN  \n",
       "8999          NaN           NaN  \n",
       "9000          NaN           NaN  \n",
       "9001          NaN           NaN  \n",
       "9002          NaN           NaN  "
      ]
     },
     "execution_count": 7,
     "metadata": {},
     "output_type": "execute_result"
    }
   ],
   "source": [
    "# It Displays buttom 5 rows default tail()\n",
    "data.tail()"
   ]
  },
  {
   "cell_type": "markdown",
   "id": "de8f3930-c7c2-4f95-9970-d92947ca75cf",
   "metadata": {},
   "source": [
    "### Data Describe"
   ]
  },
  {
   "cell_type": "code",
   "execution_count": 8,
   "id": "f464f6cc-0cb9-4019-9497-f48b28ab9c35",
   "metadata": {},
   "outputs": [
    {
     "data": {
      "text/plain": [
       "<bound method NDFrame.describe of                bite_date SpeciesIDDesc      BreedIDDesc GenderIDDesc  \\\n",
       "0     1985-05-05 0:00:00           DOG              NaN       FEMALE   \n",
       "1     1986-02-12 0:00:00           DOG              NaN      UNKNOWN   \n",
       "2     1987-05-07 0:00:00           DOG              NaN      UNKNOWN   \n",
       "3     1988-10-02 0:00:00           DOG              NaN         MALE   \n",
       "4     1989-08-29 0:00:00           DOG              NaN       FEMALE   \n",
       "...                  ...           ...              ...          ...   \n",
       "8998  2017-09-05 0:00:00           DOG              NaN          NaN   \n",
       "8999  2017-09-07 0:00:00           DOG       POMERANIAN         MALE   \n",
       "9000  2017-09-07 0:00:00           DOG  LABRADOR RETRIV         MALE   \n",
       "9001  2017-09-07 0:00:00           DOG  LABRADOR RETRIV       FEMALE   \n",
       "9002  2017-09-07 0:00:00           DOG            BOXER          NaN   \n",
       "\n",
       "           color  vaccination_yrs    vaccination_date victim_zip  \\\n",
       "0     LIG. BROWN              1.0  1985-06-20 0:00:00      40229   \n",
       "1      BRO & BLA              NaN                 NaN      40218   \n",
       "2            NaN              NaN                 NaN      40219   \n",
       "3      BLA & BRO              NaN                 NaN        NaN   \n",
       "4        BLK-WHT              NaN                 NaN        NaN   \n",
       "...          ...              ...                 ...        ...   \n",
       "8998         NaN              NaN                 NaN      40243   \n",
       "8999         RED              NaN                 NaN      40204   \n",
       "9000       BROWN              NaN                 NaN      47130   \n",
       "9001     BLK WHT              NaN                 NaN      40229   \n",
       "9002     BRN BLK              NaN                 NaN      40229   \n",
       "\n",
       "     AdvIssuedYNDesc WhereBittenIDDesc     quarantine_date DispositionIDDesc  \\\n",
       "0                 NO              BODY  1985-05-05 0:00:00           UNKNOWN   \n",
       "1                 NO              BODY  1986-02-12 0:00:00           UNKNOWN   \n",
       "2                 NO              BODY  1990-05-07 0:00:00           UNKNOWN   \n",
       "3                 NO              BODY  1990-10-02 0:00:00           UNKNOWN   \n",
       "4                 NO              BODY                 NaN           UNKNOWN   \n",
       "...              ...               ...                 ...               ...   \n",
       "8998             NaN           UNKNOWN                 NaN               NaN   \n",
       "8999             NaN              HEAD                 NaN               NaN   \n",
       "9000             NaN           UNKNOWN                 NaN               NaN   \n",
       "9001             NaN              BODY                 NaN               NaN   \n",
       "9002             NaN              BODY                 NaN               NaN   \n",
       "\n",
       "     head_sent_date release_date ResultsIDDesc  \n",
       "0               NaN          NaN       UNKNOWN  \n",
       "1               NaN          NaN       UNKNOWN  \n",
       "2               NaN          NaN       UNKNOWN  \n",
       "3               NaN          NaN       UNKNOWN  \n",
       "4               NaN          NaN       UNKNOWN  \n",
       "...             ...          ...           ...  \n",
       "8998            NaN          NaN           NaN  \n",
       "8999            NaN          NaN           NaN  \n",
       "9000            NaN          NaN           NaN  \n",
       "9001            NaN          NaN           NaN  \n",
       "9002            NaN          NaN           NaN  \n",
       "\n",
       "[9003 rows x 15 columns]>"
      ]
     },
     "execution_count": 8,
     "metadata": {},
     "output_type": "execute_result"
    }
   ],
   "source": [
    "# It describes the data in the dataset\n",
    "data.describe"
   ]
  },
  {
   "cell_type": "markdown",
   "id": "8577986a-b47e-430d-9338-086ad9a3f2e1",
   "metadata": {},
   "source": [
    "## Step 4: Data cleaning /Data Filtering / Manipulation"
   ]
  },
  {
   "cell_type": "markdown",
   "id": "6ab9a2e4-d0de-4c0e-9579-72d6807144a6",
   "metadata": {},
   "source": [
    "## Data Cleaning"
   ]
  },
  {
   "cell_type": "code",
   "execution_count": 26,
   "id": "6bd6c37b-b391-4e02-8739-9cd722ed52c5",
   "metadata": {},
   "outputs": [
    {
     "data": {
      "text/plain": [
       "bite_date             295\n",
       "SpeciesIDDesc         107\n",
       "BreedIDDesc          5207\n",
       "GenderIDDesc         2486\n",
       "color                2540\n",
       "vaccination_yrs      5221\n",
       "vaccination_date     4844\n",
       "victim_zip           1811\n",
       "AdvIssuedYNDesc      6394\n",
       "WhereBittenIDDesc     593\n",
       "quarantine_date      6936\n",
       "DispositionIDDesc    7419\n",
       "head_sent_date       8561\n",
       "release_date         7512\n",
       "ResultsIDDesc        7413\n",
       "dtype: int64"
      ]
     },
     "execution_count": 26,
     "metadata": {},
     "output_type": "execute_result"
    }
   ],
   "source": [
    "# checking for missing values in the dataset\n",
    "data.isnull().sum()"
   ]
  },
  {
   "cell_type": "markdown",
   "id": "ba67fe4a-8e62-4c70-baf2-2b2b474e6d33",
   "metadata": {},
   "source": [
    "### Data Columns"
   ]
  },
  {
   "cell_type": "code",
   "execution_count": 9,
   "id": "6a4af868-c86f-436d-8775-c260aaf3dba0",
   "metadata": {},
   "outputs": [
    {
     "data": {
      "text/plain": [
       "Index(['bite_date', 'SpeciesIDDesc', 'BreedIDDesc', 'GenderIDDesc', 'color',\n",
       "       'vaccination_yrs', 'vaccination_date', 'victim_zip', 'AdvIssuedYNDesc',\n",
       "       'WhereBittenIDDesc', 'quarantine_date', 'DispositionIDDesc',\n",
       "       'head_sent_date', 'release_date', 'ResultsIDDesc'],\n",
       "      dtype='object')"
      ]
     },
     "execution_count": 9,
     "metadata": {},
     "output_type": "execute_result"
    }
   ],
   "source": [
    "data.columns # it shows all the columns present in the dataset"
   ]
  },
  {
   "cell_type": "markdown",
   "id": "159412a3-ecd1-48c8-b803-4cbc5f18ddb5",
   "metadata": {},
   "source": [
    "### Data.info"
   ]
  },
  {
   "cell_type": "code",
   "execution_count": 10,
   "id": "a6187e41-af40-44cb-a5cf-7bcb92eb1fe8",
   "metadata": {},
   "outputs": [
    {
     "name": "stdout",
     "output_type": "stream",
     "text": [
      "<class 'pandas.core.frame.DataFrame'>\n",
      "RangeIndex: 9003 entries, 0 to 9002\n",
      "Data columns (total 15 columns):\n",
      " #   Column             Non-Null Count  Dtype  \n",
      "---  ------             --------------  -----  \n",
      " 0   bite_date          8686 non-null   object \n",
      " 1   SpeciesIDDesc      8885 non-null   object \n",
      " 2   BreedIDDesc        3759 non-null   object \n",
      " 3   GenderIDDesc       6477 non-null   object \n",
      " 4   color              6426 non-null   object \n",
      " 5   vaccination_yrs    3738 non-null   float64\n",
      " 6   vaccination_date   4115 non-null   object \n",
      " 7   victim_zip         7165 non-null   object \n",
      " 8   AdvIssuedYNDesc    2565 non-null   object \n",
      " 9   WhereBittenIDDesc  8387 non-null   object \n",
      " 10  quarantine_date    2020 non-null   object \n",
      " 11  DispositionIDDesc  1535 non-null   object \n",
      " 12  head_sent_date     395 non-null    object \n",
      " 13  release_date       1445 non-null   object \n",
      " 14  ResultsIDDesc      1543 non-null   object \n",
      "dtypes: float64(1), object(14)\n",
      "memory usage: 1.0+ MB\n"
     ]
    }
   ],
   "source": [
    "# it describes  the information of the dataset\n",
    "data.info()"
   ]
  },
  {
   "cell_type": "markdown",
   "id": "71fe50ef-48d4-4717-ad66-e594778a7df2",
   "metadata": {},
   "source": [
    "### Data Count"
   ]
  },
  {
   "cell_type": "code",
   "execution_count": 11,
   "id": "6756b111-01d6-44d3-b333-01839a173f3c",
   "metadata": {},
   "outputs": [
    {
     "data": {
      "text/plain": [
       "bite_date            8686\n",
       "SpeciesIDDesc        8885\n",
       "BreedIDDesc          3759\n",
       "GenderIDDesc         6477\n",
       "color                6426\n",
       "vaccination_yrs      3738\n",
       "vaccination_date     4115\n",
       "victim_zip           7165\n",
       "AdvIssuedYNDesc      2565\n",
       "WhereBittenIDDesc    8387\n",
       "quarantine_date      2020\n",
       "DispositionIDDesc    1535\n",
       "head_sent_date        395\n",
       "release_date         1445\n",
       "ResultsIDDesc        1543\n",
       "dtype: int64"
      ]
     },
     "execution_count": 11,
     "metadata": {},
     "output_type": "execute_result"
    }
   ],
   "source": [
    "# It gives the total count of the data present in the dataset\n",
    "data.count()"
   ]
  },
  {
   "cell_type": "markdown",
   "id": "cfaef327-1d90-4a94-91cb-52bf5093251f",
   "metadata": {},
   "source": [
    "### Data value Counts"
   ]
  },
  {
   "cell_type": "code",
   "execution_count": 12,
   "id": "4fae6166-cd19-4fe5-b9ee-464ebbc2cccc",
   "metadata": {},
   "outputs": [
    {
     "data": {
      "text/plain": [
       "<bound method DataFrame.value_counts of                bite_date SpeciesIDDesc      BreedIDDesc GenderIDDesc  \\\n",
       "0     1985-05-05 0:00:00           DOG              NaN       FEMALE   \n",
       "1     1986-02-12 0:00:00           DOG              NaN      UNKNOWN   \n",
       "2     1987-05-07 0:00:00           DOG              NaN      UNKNOWN   \n",
       "3     1988-10-02 0:00:00           DOG              NaN         MALE   \n",
       "4     1989-08-29 0:00:00           DOG              NaN       FEMALE   \n",
       "...                  ...           ...              ...          ...   \n",
       "8998  2017-09-05 0:00:00           DOG              NaN          NaN   \n",
       "8999  2017-09-07 0:00:00           DOG       POMERANIAN         MALE   \n",
       "9000  2017-09-07 0:00:00           DOG  LABRADOR RETRIV         MALE   \n",
       "9001  2017-09-07 0:00:00           DOG  LABRADOR RETRIV       FEMALE   \n",
       "9002  2017-09-07 0:00:00           DOG            BOXER          NaN   \n",
       "\n",
       "           color  vaccination_yrs    vaccination_date victim_zip  \\\n",
       "0     LIG. BROWN              1.0  1985-06-20 0:00:00      40229   \n",
       "1      BRO & BLA              NaN                 NaN      40218   \n",
       "2            NaN              NaN                 NaN      40219   \n",
       "3      BLA & BRO              NaN                 NaN        NaN   \n",
       "4        BLK-WHT              NaN                 NaN        NaN   \n",
       "...          ...              ...                 ...        ...   \n",
       "8998         NaN              NaN                 NaN      40243   \n",
       "8999         RED              NaN                 NaN      40204   \n",
       "9000       BROWN              NaN                 NaN      47130   \n",
       "9001     BLK WHT              NaN                 NaN      40229   \n",
       "9002     BRN BLK              NaN                 NaN      40229   \n",
       "\n",
       "     AdvIssuedYNDesc WhereBittenIDDesc     quarantine_date DispositionIDDesc  \\\n",
       "0                 NO              BODY  1985-05-05 0:00:00           UNKNOWN   \n",
       "1                 NO              BODY  1986-02-12 0:00:00           UNKNOWN   \n",
       "2                 NO              BODY  1990-05-07 0:00:00           UNKNOWN   \n",
       "3                 NO              BODY  1990-10-02 0:00:00           UNKNOWN   \n",
       "4                 NO              BODY                 NaN           UNKNOWN   \n",
       "...              ...               ...                 ...               ...   \n",
       "8998             NaN           UNKNOWN                 NaN               NaN   \n",
       "8999             NaN              HEAD                 NaN               NaN   \n",
       "9000             NaN           UNKNOWN                 NaN               NaN   \n",
       "9001             NaN              BODY                 NaN               NaN   \n",
       "9002             NaN              BODY                 NaN               NaN   \n",
       "\n",
       "     head_sent_date release_date ResultsIDDesc  \n",
       "0               NaN          NaN       UNKNOWN  \n",
       "1               NaN          NaN       UNKNOWN  \n",
       "2               NaN          NaN       UNKNOWN  \n",
       "3               NaN          NaN       UNKNOWN  \n",
       "4               NaN          NaN       UNKNOWN  \n",
       "...             ...          ...           ...  \n",
       "8998            NaN          NaN           NaN  \n",
       "8999            NaN          NaN           NaN  \n",
       "9000            NaN          NaN           NaN  \n",
       "9001            NaN          NaN           NaN  \n",
       "9002            NaN          NaN           NaN  \n",
       "\n",
       "[9003 rows x 15 columns]>"
      ]
     },
     "execution_count": 12,
     "metadata": {},
     "output_type": "execute_result"
    }
   ],
   "source": [
    "# it counts the data values in the dataset\n",
    "data.value_counts"
   ]
  },
  {
   "cell_type": "markdown",
   "id": "c172a2b3-d6de-467e-96ae-4d62d6ea8c9c",
   "metadata": {},
   "source": [
    "### Data Unique"
   ]
  },
  {
   "cell_type": "code",
   "execution_count": 13,
   "id": "0335ffeb-5708-433d-ad22-09b4658fb96f",
   "metadata": {},
   "outputs": [
    {
     "data": {
      "text/plain": [
       "array([nan, 'GERM SHEPHERD', 'DACHSHUND', 'PIT BULL', 'SHIH TZU',\n",
       "       'COCKER SPAINEL', 'CHICHAUHUA', 'BEAGLE', 'CHOW CHOW', 'OTHER',\n",
       "       'BOXER', 'AAUST. TERR.', 'GOLD RETRIEVER', 'LABRADOR RETRIV',\n",
       "       'BULLMASTIFF', 'BORDER COLLIE', 'POMERANIAN', 'YORKSHIRE TERRIER',\n",
       "       'GREYHOUND', 'ROTTWEILER', 'AMER. BULL DOG', 'DALMATIAN', 'HUSKY',\n",
       "       'BULL DOG', 'MASTIF', 'GREAT PYRENEESE', 'GREAT DANE', 'POODLE',\n",
       "       'SIBERAN HUSKY', 'WEIMARANER', 'CORGI', 'BOSTON TERRIER',\n",
       "       'SCHNAUZER', 'BASSET HOUND', 'MIN PIN', 'WELSH CORGI',\n",
       "       'AM BULLDOG', 'SAMOYED', 'MALTASE', 'AKITA', 'SHELTIE',\n",
       "       'LHASA APSO', 'SAINT BERNARD', 'AIREDALE TER.', 'AM. ESKIMO',\n",
       "       'BICHON FRISE', 'PUG', 'DOBERMAN', 'DOTSON', 'NEW FOUNDLAND',\n",
       "       'BERNESEN MT.', 'HAVANESE', 'ENGLISH SETTER', 'SHAR-PEI',\n",
       "       'COCKAPOO', 'OLD ENG SHP DOG', 'WESTIE', 'BOUVIER', 'RAT TERRIER',\n",
       "       'SHEEP DOG', 'HEELER', 'PEKINGESE', 'FOX TERRIER MIX',\n",
       "       'ENGLISH BULLDOG', 'BORDER COLLIE M', 'BASANJI', 'PYRENES',\n",
       "       'BLOOD HOUND', 'COLLIE', 'ALASK. MALAMUTE', 'BRITNEY SPANIEL',\n",
       "       'BICHON FRESE', 'FOX TERRIER', 'BLUE HEELER', 'CATAHOULA',\n",
       "       'CANE CORSO', 'IRISH SETTER', 'ENGLISH SHEPARD', 'ENG. MASTIFF',\n",
       "       'BLACK LAB', 'SCOTTISH TER.', 'LAKELAND TER.', 'COON HOUND',\n",
       "       'CHOCOLATE LAB.', 'BOX TERRIER', 'CATTLE DOG', 'SPITZ',\n",
       "       'TOY POODLE', 'FRENCH BULLDOG', 'BRIARD', 'ST BERNARD',\n",
       "       'GOLDEN LAB', 'TOY FOX TERRIER', 'RED HEELER', 'WEINER DOG',\n",
       "       'MALAMUTE', 'IRISH SPANIEL', 'BESINJI', 'BEARDED COLLIE',\n",
       "       'STAN POODLE', 'AMER FOX HOUND', 'IRISH WOLFHOUND'], dtype=object)"
      ]
     },
     "execution_count": 13,
     "metadata": {},
     "output_type": "execute_result"
    }
   ],
   "source": [
    "# It gives the unique values present  in specified column\n",
    "data['BreedIDDesc'].unique()"
   ]
  },
  {
   "cell_type": "markdown",
   "id": "8e783d82-20bf-4dc2-a076-ed13a17b9d08",
   "metadata": {},
   "source": [
    "### Data dropna"
   ]
  },
  {
   "cell_type": "code",
   "execution_count": 28,
   "id": "ad984d85-170c-49e1-993f-5fae9144eb76",
   "metadata": {},
   "outputs": [
    {
     "data": {
      "text/plain": [
       "<bound method DataFrame.dropna of                bite_date SpeciesIDDesc      BreedIDDesc GenderIDDesc  \\\n",
       "0     1985-05-05 0:00:00           DOG              NaN       FEMALE   \n",
       "1     1986-02-12 0:00:00           DOG              NaN      UNKNOWN   \n",
       "2     1987-05-07 0:00:00           DOG              NaN      UNKNOWN   \n",
       "3     1988-10-02 0:00:00           DOG              NaN         MALE   \n",
       "4     1989-08-29 0:00:00           DOG              NaN       FEMALE   \n",
       "...                  ...           ...              ...          ...   \n",
       "8998  2017-09-05 0:00:00           DOG              NaN          NaN   \n",
       "8999  2017-09-07 0:00:00           DOG       POMERANIAN         MALE   \n",
       "9000  2017-09-07 0:00:00           DOG  LABRADOR RETRIV         MALE   \n",
       "9001  2017-09-07 0:00:00           DOG  LABRADOR RETRIV       FEMALE   \n",
       "9002  2017-09-07 0:00:00           DOG            BOXER          NaN   \n",
       "\n",
       "           color  vaccination_yrs    vaccination_date victim_zip  \\\n",
       "0     LIG. BROWN              1.0  1985-06-20 0:00:00      40229   \n",
       "1      BRO & BLA              NaN                 NaN      40218   \n",
       "2            NaN              NaN                 NaN      40219   \n",
       "3      BLA & BRO              NaN                 NaN        NaN   \n",
       "4        BLK-WHT              NaN                 NaN        NaN   \n",
       "...          ...              ...                 ...        ...   \n",
       "8998         NaN              NaN                 NaN      40243   \n",
       "8999         RED              NaN                 NaN      40204   \n",
       "9000       BROWN              NaN                 NaN      47130   \n",
       "9001     BLK WHT              NaN                 NaN      40229   \n",
       "9002     BRN BLK              NaN                 NaN      40229   \n",
       "\n",
       "     AdvIssuedYNDesc WhereBittenIDDesc     quarantine_date DispositionIDDesc  \\\n",
       "0                 NO              BODY  1985-05-05 0:00:00           UNKNOWN   \n",
       "1                 NO              BODY  1986-02-12 0:00:00           UNKNOWN   \n",
       "2                 NO              BODY  1990-05-07 0:00:00           UNKNOWN   \n",
       "3                 NO              BODY  1990-10-02 0:00:00           UNKNOWN   \n",
       "4                 NO              BODY                 NaN           UNKNOWN   \n",
       "...              ...               ...                 ...               ...   \n",
       "8998             NaN           UNKNOWN                 NaN               NaN   \n",
       "8999             NaN              HEAD                 NaN               NaN   \n",
       "9000             NaN           UNKNOWN                 NaN               NaN   \n",
       "9001             NaN              BODY                 NaN               NaN   \n",
       "9002             NaN              BODY                 NaN               NaN   \n",
       "\n",
       "     head_sent_date release_date ResultsIDDesc  \n",
       "0               NaN          NaN       UNKNOWN  \n",
       "1               NaN          NaN       UNKNOWN  \n",
       "2               NaN          NaN       UNKNOWN  \n",
       "3               NaN          NaN       UNKNOWN  \n",
       "4               NaN          NaN       UNKNOWN  \n",
       "...             ...          ...           ...  \n",
       "8998            NaN          NaN           NaN  \n",
       "8999            NaN          NaN           NaN  \n",
       "9000            NaN          NaN           NaN  \n",
       "9001            NaN          NaN           NaN  \n",
       "9002            NaN          NaN           NaN  \n",
       "\n",
       "[8954 rows x 15 columns]>"
      ]
     },
     "execution_count": 28,
     "metadata": {},
     "output_type": "execute_result"
    }
   ],
   "source": [
    "# used to remove null values from the dataset\n",
    "data.dropna"
   ]
  },
  {
   "cell_type": "code",
   "execution_count": 15,
   "id": "728073c0-31d7-4a34-b450-bb13a7b5143c",
   "metadata": {},
   "outputs": [
    {
     "data": {
      "text/plain": [
       "(9003, 15)"
      ]
     },
     "execution_count": 15,
     "metadata": {},
     "output_type": "execute_result"
    }
   ],
   "source": [
    "data.shape"
   ]
  },
  {
   "cell_type": "code",
   "execution_count": 16,
   "id": "c03a4eaa-6b53-4970-8186-fcd99f18a004",
   "metadata": {},
   "outputs": [],
   "source": [
    "# checks the rows and if any null value found replace with true\n",
    "data.dropna(inplace=True)"
   ]
  },
  {
   "cell_type": "code",
   "execution_count": 14,
   "id": "c462ee24-c800-45c3-bb94-bfbc34cd7ec2",
   "metadata": {},
   "outputs": [
    {
     "data": {
      "text/plain": [
       "0       False\n",
       "1        True\n",
       "2        True\n",
       "3        True\n",
       "4        True\n",
       "        ...  \n",
       "8998     True\n",
       "8999     True\n",
       "9000     True\n",
       "9001     True\n",
       "9002     True\n",
       "Name: BreedIDDesc, Length: 8954, dtype: bool"
      ]
     },
     "execution_count": 14,
     "metadata": {},
     "output_type": "execute_result"
    }
   ],
   "source": [
    "# checks the duplicate values in the specified column\n",
    "data['BreedIDDesc'].duplicated()"
   ]
  },
  {
   "cell_type": "code",
   "execution_count": 13,
   "id": "c51447f1-26f0-4583-9944-a51e9ce55aa1",
   "metadata": {},
   "outputs": [],
   "source": [
    "# if duplicates found it removes the duplicate record from the dataset\n",
    "data.drop_duplicates(inplace=True)"
   ]
  },
  {
   "cell_type": "code",
   "execution_count": 19,
   "id": "c598e10d-0969-4861-a56f-bba63c311a5d",
   "metadata": {},
   "outputs": [
    {
     "name": "stdout",
     "output_type": "stream",
     "text": [
      "0\n"
     ]
    }
   ],
   "source": [
    "duplicate_rows = data.duplicated()\n",
    "print(duplicate_rows.sum())"
   ]
  },
  {
   "cell_type": "markdown",
   "id": "48fec5b5-f1a4-4431-b239-f425b0901884",
   "metadata": {},
   "source": [
    "## Data Sorting / searching / validation"
   ]
  },
  {
   "cell_type": "code",
   "execution_count": 23,
   "id": "f9d5cca8-16a4-430a-b7ce-25a45cb37dad",
   "metadata": {},
   "outputs": [
    {
     "data": {
      "text/plain": [
       "0                   NaN\n",
       "1                   NaN\n",
       "2                   NaN\n",
       "3                   NaN\n",
       "4                   NaN\n",
       "             ...       \n",
       "8998                NaN\n",
       "8999         POMERANIAN\n",
       "9000    LABRADOR RETRIV\n",
       "9001    LABRADOR RETRIV\n",
       "9002              BOXER\n",
       "Name: BreedIDDesc, Length: 8954, dtype: object"
      ]
     },
     "execution_count": 23,
     "metadata": {},
     "output_type": "execute_result"
    }
   ],
   "source": [
    "# displays BreedIDDesc data in shuffled manner\n",
    "data['BreedIDDesc']"
   ]
  },
  {
   "cell_type": "code",
   "execution_count": 22,
   "id": "8eb2b55a-362b-4477-a78e-cd819f117e73",
   "metadata": {},
   "outputs": [
    {
     "data": {
      "text/html": [
       "<div>\n",
       "<style scoped>\n",
       "    .dataframe tbody tr th:only-of-type {\n",
       "        vertical-align: middle;\n",
       "    }\n",
       "\n",
       "    .dataframe tbody tr th {\n",
       "        vertical-align: top;\n",
       "    }\n",
       "\n",
       "    .dataframe thead th {\n",
       "        text-align: right;\n",
       "    }\n",
       "</style>\n",
       "<table border=\"1\" class=\"dataframe\">\n",
       "  <thead>\n",
       "    <tr style=\"text-align: right;\">\n",
       "      <th></th>\n",
       "      <th>bite_date</th>\n",
       "      <th>SpeciesIDDesc</th>\n",
       "      <th>BreedIDDesc</th>\n",
       "      <th>GenderIDDesc</th>\n",
       "      <th>color</th>\n",
       "      <th>vaccination_yrs</th>\n",
       "      <th>vaccination_date</th>\n",
       "      <th>victim_zip</th>\n",
       "      <th>AdvIssuedYNDesc</th>\n",
       "      <th>WhereBittenIDDesc</th>\n",
       "      <th>quarantine_date</th>\n",
       "      <th>DispositionIDDesc</th>\n",
       "      <th>head_sent_date</th>\n",
       "      <th>release_date</th>\n",
       "      <th>ResultsIDDesc</th>\n",
       "    </tr>\n",
       "  </thead>\n",
       "  <tbody>\n",
       "    <tr>\n",
       "      <th>6827</th>\n",
       "      <td>2015-08-11 0:00:00</td>\n",
       "      <td>DOG</td>\n",
       "      <td>AAUST. TERR.</td>\n",
       "      <td>MALE</td>\n",
       "      <td>GR/WH/BLK</td>\n",
       "      <td>NaN</td>\n",
       "      <td>2015-07-20 0:00:00</td>\n",
       "      <td>40219</td>\n",
       "      <td>NaN</td>\n",
       "      <td>BODY</td>\n",
       "      <td>NaN</td>\n",
       "      <td>NaN</td>\n",
       "      <td>NaN</td>\n",
       "      <td>2015-08-21 0:00:00</td>\n",
       "      <td>NaN</td>\n",
       "    </tr>\n",
       "    <tr>\n",
       "      <th>4808</th>\n",
       "      <td>2013-10-23 0:00:00</td>\n",
       "      <td>DOG</td>\n",
       "      <td>AAUST. TERR.</td>\n",
       "      <td>FEMALE</td>\n",
       "      <td>NaN</td>\n",
       "      <td>3.0</td>\n",
       "      <td>2013-07-30 0:00:00</td>\n",
       "      <td>40205</td>\n",
       "      <td>NaN</td>\n",
       "      <td>BODY</td>\n",
       "      <td>NaN</td>\n",
       "      <td>NaN</td>\n",
       "      <td>NaN</td>\n",
       "      <td>NaN</td>\n",
       "      <td>NaN</td>\n",
       "    </tr>\n",
       "    <tr>\n",
       "      <th>6571</th>\n",
       "      <td>2015-05-12 0:00:00</td>\n",
       "      <td>DOG</td>\n",
       "      <td>AAUST. TERR.</td>\n",
       "      <td>MALE</td>\n",
       "      <td>BRINDLE</td>\n",
       "      <td>1.0</td>\n",
       "      <td>2015-04-27 0:00:00</td>\n",
       "      <td>40216</td>\n",
       "      <td>NO</td>\n",
       "      <td>BODY</td>\n",
       "      <td>NaN</td>\n",
       "      <td>RELEASED</td>\n",
       "      <td>NaN</td>\n",
       "      <td>2015-05-26 0:00:00</td>\n",
       "      <td>NaN</td>\n",
       "    </tr>\n",
       "    <tr>\n",
       "      <th>8247</th>\n",
       "      <td>2017-02-01 0:00:00</td>\n",
       "      <td>DOG</td>\n",
       "      <td>AAUST. TERR.</td>\n",
       "      <td>UNKNOWN</td>\n",
       "      <td>BLK WHT</td>\n",
       "      <td>NaN</td>\n",
       "      <td>NaN</td>\n",
       "      <td>40205</td>\n",
       "      <td>NaN</td>\n",
       "      <td>BODY</td>\n",
       "      <td>NaN</td>\n",
       "      <td>NaN</td>\n",
       "      <td>NaN</td>\n",
       "      <td>NaN</td>\n",
       "      <td>NaN</td>\n",
       "    </tr>\n",
       "    <tr>\n",
       "      <th>2731</th>\n",
       "      <td>2012-01-28 0:00:00</td>\n",
       "      <td>DOG</td>\n",
       "      <td>AAUST. TERR.</td>\n",
       "      <td>FEMALE</td>\n",
       "      <td>WHITE</td>\n",
       "      <td>3.0</td>\n",
       "      <td>2009-10-08 0:00:00</td>\n",
       "      <td>40223</td>\n",
       "      <td>NaN</td>\n",
       "      <td>HEAD</td>\n",
       "      <td>NaN</td>\n",
       "      <td>NaN</td>\n",
       "      <td>NaN</td>\n",
       "      <td>NaN</td>\n",
       "      <td>NaN</td>\n",
       "    </tr>\n",
       "    <tr>\n",
       "      <th>...</th>\n",
       "      <td>...</td>\n",
       "      <td>...</td>\n",
       "      <td>...</td>\n",
       "      <td>...</td>\n",
       "      <td>...</td>\n",
       "      <td>...</td>\n",
       "      <td>...</td>\n",
       "      <td>...</td>\n",
       "      <td>...</td>\n",
       "      <td>...</td>\n",
       "      <td>...</td>\n",
       "      <td>...</td>\n",
       "      <td>...</td>\n",
       "      <td>...</td>\n",
       "      <td>...</td>\n",
       "    </tr>\n",
       "    <tr>\n",
       "      <th>8984</th>\n",
       "      <td>2017-09-02 0:00:00</td>\n",
       "      <td>CAT</td>\n",
       "      <td>NaN</td>\n",
       "      <td>NaN</td>\n",
       "      <td>NaN</td>\n",
       "      <td>NaN</td>\n",
       "      <td>NaN</td>\n",
       "      <td>40291</td>\n",
       "      <td>NaN</td>\n",
       "      <td>UNKNOWN</td>\n",
       "      <td>NaN</td>\n",
       "      <td>NaN</td>\n",
       "      <td>NaN</td>\n",
       "      <td>NaN</td>\n",
       "      <td>NaN</td>\n",
       "    </tr>\n",
       "    <tr>\n",
       "      <th>8989</th>\n",
       "      <td>2017-09-02 0:00:00</td>\n",
       "      <td>DOG</td>\n",
       "      <td>NaN</td>\n",
       "      <td>MALE</td>\n",
       "      <td>BRONW</td>\n",
       "      <td>NaN</td>\n",
       "      <td>NaN</td>\n",
       "      <td>40218</td>\n",
       "      <td>NaN</td>\n",
       "      <td>BODY</td>\n",
       "      <td>NaN</td>\n",
       "      <td>NaN</td>\n",
       "      <td>NaN</td>\n",
       "      <td>NaN</td>\n",
       "      <td>NaN</td>\n",
       "    </tr>\n",
       "    <tr>\n",
       "      <th>8994</th>\n",
       "      <td>2017-09-04 0:00:00</td>\n",
       "      <td>CAT</td>\n",
       "      <td>NaN</td>\n",
       "      <td>MALE</td>\n",
       "      <td>NaN</td>\n",
       "      <td>NaN</td>\n",
       "      <td>NaN</td>\n",
       "      <td>40206</td>\n",
       "      <td>NaN</td>\n",
       "      <td>UNKNOWN</td>\n",
       "      <td>NaN</td>\n",
       "      <td>NaN</td>\n",
       "      <td>NaN</td>\n",
       "      <td>NaN</td>\n",
       "      <td>NaN</td>\n",
       "    </tr>\n",
       "    <tr>\n",
       "      <th>8996</th>\n",
       "      <td>2017-09-04 0:00:00</td>\n",
       "      <td>DOG</td>\n",
       "      <td>NaN</td>\n",
       "      <td>NaN</td>\n",
       "      <td>NaN</td>\n",
       "      <td>NaN</td>\n",
       "      <td>NaN</td>\n",
       "      <td>40214</td>\n",
       "      <td>NaN</td>\n",
       "      <td>BODY</td>\n",
       "      <td>NaN</td>\n",
       "      <td>NaN</td>\n",
       "      <td>NaN</td>\n",
       "      <td>NaN</td>\n",
       "      <td>NaN</td>\n",
       "    </tr>\n",
       "    <tr>\n",
       "      <th>8998</th>\n",
       "      <td>2017-09-05 0:00:00</td>\n",
       "      <td>DOG</td>\n",
       "      <td>NaN</td>\n",
       "      <td>NaN</td>\n",
       "      <td>NaN</td>\n",
       "      <td>NaN</td>\n",
       "      <td>NaN</td>\n",
       "      <td>40243</td>\n",
       "      <td>NaN</td>\n",
       "      <td>UNKNOWN</td>\n",
       "      <td>NaN</td>\n",
       "      <td>NaN</td>\n",
       "      <td>NaN</td>\n",
       "      <td>NaN</td>\n",
       "      <td>NaN</td>\n",
       "    </tr>\n",
       "  </tbody>\n",
       "</table>\n",
       "<p>8954 rows × 15 columns</p>\n",
       "</div>"
      ],
      "text/plain": [
       "               bite_date SpeciesIDDesc   BreedIDDesc GenderIDDesc      color  \\\n",
       "6827  2015-08-11 0:00:00           DOG  AAUST. TERR.         MALE  GR/WH/BLK   \n",
       "4808  2013-10-23 0:00:00           DOG  AAUST. TERR.       FEMALE        NaN   \n",
       "6571  2015-05-12 0:00:00           DOG  AAUST. TERR.         MALE    BRINDLE   \n",
       "8247  2017-02-01 0:00:00           DOG  AAUST. TERR.      UNKNOWN    BLK WHT   \n",
       "2731  2012-01-28 0:00:00           DOG  AAUST. TERR.       FEMALE      WHITE   \n",
       "...                  ...           ...           ...          ...        ...   \n",
       "8984  2017-09-02 0:00:00           CAT           NaN          NaN        NaN   \n",
       "8989  2017-09-02 0:00:00           DOG           NaN         MALE      BRONW   \n",
       "8994  2017-09-04 0:00:00           CAT           NaN         MALE        NaN   \n",
       "8996  2017-09-04 0:00:00           DOG           NaN          NaN        NaN   \n",
       "8998  2017-09-05 0:00:00           DOG           NaN          NaN        NaN   \n",
       "\n",
       "      vaccination_yrs    vaccination_date victim_zip AdvIssuedYNDesc  \\\n",
       "6827              NaN  2015-07-20 0:00:00      40219             NaN   \n",
       "4808              3.0  2013-07-30 0:00:00      40205             NaN   \n",
       "6571              1.0  2015-04-27 0:00:00      40216              NO   \n",
       "8247              NaN                 NaN      40205             NaN   \n",
       "2731              3.0  2009-10-08 0:00:00      40223             NaN   \n",
       "...               ...                 ...        ...             ...   \n",
       "8984              NaN                 NaN      40291             NaN   \n",
       "8989              NaN                 NaN      40218             NaN   \n",
       "8994              NaN                 NaN      40206             NaN   \n",
       "8996              NaN                 NaN      40214             NaN   \n",
       "8998              NaN                 NaN      40243             NaN   \n",
       "\n",
       "     WhereBittenIDDesc quarantine_date DispositionIDDesc head_sent_date  \\\n",
       "6827              BODY             NaN               NaN            NaN   \n",
       "4808              BODY             NaN               NaN            NaN   \n",
       "6571              BODY             NaN          RELEASED            NaN   \n",
       "8247              BODY             NaN               NaN            NaN   \n",
       "2731              HEAD             NaN               NaN            NaN   \n",
       "...                ...             ...               ...            ...   \n",
       "8984           UNKNOWN             NaN               NaN            NaN   \n",
       "8989              BODY             NaN               NaN            NaN   \n",
       "8994           UNKNOWN             NaN               NaN            NaN   \n",
       "8996              BODY             NaN               NaN            NaN   \n",
       "8998           UNKNOWN             NaN               NaN            NaN   \n",
       "\n",
       "            release_date ResultsIDDesc  \n",
       "6827  2015-08-21 0:00:00           NaN  \n",
       "4808                 NaN           NaN  \n",
       "6571  2015-05-26 0:00:00           NaN  \n",
       "8247                 NaN           NaN  \n",
       "2731                 NaN           NaN  \n",
       "...                  ...           ...  \n",
       "8984                 NaN           NaN  \n",
       "8989                 NaN           NaN  \n",
       "8994                 NaN           NaN  \n",
       "8996                 NaN           NaN  \n",
       "8998                 NaN           NaN  \n",
       "\n",
       "[8954 rows x 15 columns]"
      ]
     },
     "execution_count": 22,
     "metadata": {},
     "output_type": "execute_result"
    }
   ],
   "source": [
    "# arranging BreedIDDesc in ascending value\n",
    "data.sort_values('BreedIDDesc',ascending=True)"
   ]
  },
  {
   "cell_type": "markdown",
   "id": "87582b6e-3e30-4577-8029-a468446c1366",
   "metadata": {},
   "source": [
    "## Data Visualization"
   ]
  },
  {
   "cell_type": "code",
   "execution_count": 8,
   "id": "abe7adee-cde9-4e9a-b555-f85e7bf62759",
   "metadata": {},
   "outputs": [],
   "source": [
    "import matplotlib.pyplot as plt\n",
    "import pandas as pd\n"
   ]
  },
  {
   "cell_type": "markdown",
   "id": "bf2a5aed-cf91-4cc3-930e-4844dfb79b17",
   "metadata": {},
   "source": [
    "### It display the pie chart for WhereBittenIDDesc"
   ]
  },
  {
   "cell_type": "code",
   "execution_count": 9,
   "id": "298c9929-bb0d-4532-869c-0d0d6cececfb",
   "metadata": {},
   "outputs": [
    {
     "data": {
      "image/png": "[encoded data removed]",
      "text/plain": [
       "<Figure size 640x480 with 1 Axes>"
      ]
     },
     "metadata": {},
     "output_type": "display_data"
    }
   ],
   "source": [
    "df=pd.DataFrame(data.head(9003))\n",
    "df['WhereBittenIDDesc'].value_counts().plot(kind='pie',autopct='%1.1f%%')\n",
    "plt.title(\"WhereBittenIDDesc\")\n",
    "plt.show()"
   ]
  },
  {
   "cell_type": "markdown",
   "id": "af58a2fa-3fa8-4709-8d7e-844e62868c1d",
   "metadata": {},
   "source": [
    "### It displays the Bar Chart for GenderIDDesc"
   ]
  },
  {
   "cell_type": "code",
   "execution_count": 18,
   "id": "41eb7c64-2b0b-46cd-93da-0a5d09f4803b",
   "metadata": {},
   "outputs": [
    {
     "data": {
      "image/png": "[encoded data removed]",
      "text/plain": [
       "<Figure size 640x480 with 1 Axes>"
      ]
     },
     "metadata": {},
     "output_type": "display_data"
    }
   ],
   "source": [
    "df=pd.DataFrame(data.head(9003))\n",
    "df['GenderIDDesc'].value_counts().plot(kind='bar',color='Blue')\n",
    "plt.xlabel('GenderIDDesc')\n",
    "plt.ylabel('WhereBittenIDDesc')\n",
    "plt.title(\"WhereBittenIDDesc\")\n",
    "plt.xticks(rotation=60)\n",
    "plt.show()"
   ]
  },
  {
   "cell_type": "code",
   "execution_count": 36,
   "id": "d7e92d35-b572-4882-88ec-a70b2ce0ba3f",
   "metadata": {},
   "outputs": [
    {
     "data": {
      "image/png": "[encoded data removed]",
      "text/plain": [
       "<Figure size 640x480 with 1 Axes>"
      ]
     },
     "metadata": {},
     "output_type": "display_data"
    }
   ],
   "source": [
    "import pandas as pd\n",
    "import matplotlib.pyplot as plt\n",
    "\n",
    "# Assuming your data is stored in a CSV file named 'animal_bites.csv'\n",
    "data = pd.read_csv(\"C:/Users/haris/Downloads/Health_AnimalBites - Health_AnimalBites.csv\")\n",
    "\n",
    "# Preprocess the data to count the occurrences of bites for each gender\n",
    "gender_counts = data['GenderIDDesc'].value_counts()\n",
    "\n",
    "# Plot the line graph\n",
    "plt.plot(gender_counts.index, gender_counts.values, marker='o', linestyle='-')\n",
    "plt.title('Number of Animal Bites by Gender')\n",
    "plt.xlabel('Gender')\n",
    "plt.ylabel('Number of Bites')\n",
    "plt.grid(True)\n",
    "plt.show()\n"
   ]
  },
  {
   "cell_type": "markdown",
   "id": "d917946f-88bf-493d-a14a-565e684186b5",
   "metadata": {},
   "source": [
    "#### Conclusion \n",
    "This line graph showing the number of animal bites for each gender. \n",
    "You can adjust the file path if your data is stored in a different location or modify the plot appearance according to your preferences."
   ]
  },
  {
   "cell_type": "code",
   "execution_count": 39,
   "id": "4d991c9e-e964-4cf6-a7ca-db7f43ef1a3e",
   "metadata": {},
   "outputs": [
    {
     "data": {
      "image/png": "[encoded data removed]",
      "text/plain": [
       "<Figure size 1000x600 with 1 Axes>"
      ]
     },
     "metadata": {},
     "output_type": "display_data"
    },
    {
     "name": "stdout",
     "output_type": "stream",
     "text": [
      "The species responsible for the highest number of bites is: DOG\n"
     ]
    }
   ],
   "source": [
    "import pandas as pd\n",
    "import matplotlib.pyplot as plt\n",
    "\n",
    "\n",
    "# To count the number of bites by each species, we'll group the data by 'SpeciesIDDesc' and count occurrences\n",
    "species_bite_counts = df['SpeciesIDDesc'].value_counts()\n",
    "\n",
    "# Plotting the scatter graph\n",
    "plt.figure(figsize=(10, 6))\n",
    "plt.scatter(species_bite_counts.index, species_bite_counts.values, color='blue', alpha=0.7)\n",
    "plt.title('Number of Bites by Species')\n",
    "plt.xlabel('Species')\n",
    "plt.ylabel('Number of Bites')\n",
    "plt.xticks(rotation=45)  # Rotate x-axis labels for better readability\n",
    "plt.grid(True)\n",
    "plt.show()\n",
    "\n",
    "# Now, to find the species responsible for the highest number of bites, we can check the species with the maximum count\n",
    "max_bites_species = species_bite_counts.idxmax()\n",
    "print(\"The species responsible for the highest number of bites is:\", max_bites_species)\n"
   ]
  },
  {
   "cell_type": "code",
   "execution_count": 40,
   "id": "8cecd8ae-44b0-452e-a983-bf3237a0da41",
   "metadata": {},
   "outputs": [
    {
     "data": {
      "image/png": "[encoded data removed]",
      "text/plain": [
       "<Figure size 640x480 with 1 Axes>"
      ]
     },
     "metadata": {},
     "output_type": "display_data"
    }
   ],
   "source": [
    "import pandas as pd\n",
    "import matplotlib.pyplot as plt\n",
    "\n",
    "# Assuming 'data' is your DataFrame containing the animal bites data\n",
    "\n",
    "# Selecting the first 9003 rows for analysis\n",
    "df = data.head(9003)\n",
    "\n",
    "# Counting the occurrences of each 'WhereBittenIDDesc' based on 'GenderIDDesc'\n",
    "bitten_by_gender = df.groupby(['GenderIDDesc', 'WhereBittenIDDesc']).size().unstack()\n",
    "\n",
    "# Plotting the bar chart\n",
    "bitten_by_gender.plot(kind='bar', color=['blue', 'orange', 'green', 'red', 'purple'])\n",
    "plt.xlabel('Gender')\n",
    "plt.ylabel('Number of Bites')\n",
    "plt.title('Number of Bites by WhereBittenIDDesc and GenderIDDesc')\n",
    "plt.xticks(rotation=60)\n",
    "plt.legend(title='WhereBittenIDDesc')\n",
    "plt.show()\n"
   ]
  },
  {
   "cell_type": "markdown",
   "id": "7c6515e1-3d6b-43a2-af65-efbdef08c16d",
   "metadata": {},
   "source": [
    "### Conclusion\n",
    "This code visualizes the distribution of animal bites based on both gender and location of the bite.\n",
    "It provides insight into which gender and body part combinations are most frequently affected by bites. \n",
    "The bar chart clearly depicts any patterns or trends in bite occurrences across different demographics,\n",
    "aiding in targeted preventive measures and healthcare interventions."
   ]
  },
  {
   "cell_type": "code",
   "execution_count": 52,
   "id": "4bfe3ffe-ee24-4d48-96d2-b6bbba598670",
   "metadata": {},
   "outputs": [
    {
     "data": {
      "image/png": "[encoded data removed]",
      "text/plain": [
       "<Figure size 1000x600 with 1 Axes>"
      ]
     },
     "metadata": {},
     "output_type": "display_data"
    }
   ],
   "source": [
    "import pandas as pd\n",
    "import matplotlib.pyplot as plt\n",
    "\n",
    "\n",
    "# Read the data into a pandas DataFrame\n",
    "data = pd.read_csv(\"C:/Users/haris/Downloads/Health_AnimalBites - Health_AnimalBites.csv\")\n",
    "    \n",
    "\n",
    "df = pd.DataFrame(data)\n",
    "\n",
    "# Drop rows with missing victim_zip values\n",
    "df = df.dropna(subset=['victim_zip'])\n",
    "\n",
    "# Count the number of reported animal bites by zip code\n",
    "bites_by_zip = df['victim_zip'].value_counts().sort_index()\n",
    "\n",
    "# Plot the data\n",
    "plt.figure(figsize=(10, 6))\n",
    "bites_by_zip.plot(kind='line', marker='o')\n",
    "plt.title('Number of Reported Animal Bites by Zip Code')\n",
    "plt.xlabel('Zip Code')\n",
    "plt.ylabel('Number of Bites')\n",
    "plt.grid(True)\n",
    "plt.show()\n"
   ]
  },
  {
   "cell_type": "code",
   "execution_count": 47,
   "id": "90e0b063-3c2d-43fe-9dad-b428420fd5fa",
   "metadata": {},
   "outputs": [],
   "source": [
    "import seaborn as sns"
   ]
  },
  {
   "cell_type": "code",
   "execution_count": 49,
   "id": "e6618020-10fe-455b-abf1-7b03d5d95440",
   "metadata": {},
   "outputs": [
    {
     "data": {
      "image/png": "[encoded data removed]",
      "text/plain": [
       "<Figure size 1000x600 with 1 Axes>"
      ]
     },
     "metadata": {},
     "output_type": "display_data"
    }
   ],
   "source": [
    "import pandas as pd\n",
    "import matplotlib.pyplot as plt\n",
    "import seaborn as sns\n",
    "\n",
    "# Load the data into a pandas DataFrame\n",
    "data = pd.read_csv(\"C:/Users/haris/Downloads/Health_AnimalBites - Health_AnimalBites.csv\")\n",
    "df = pd.DataFrame(data)\n",
    "\n",
    "# Count the occurrences of each outcome\n",
    "outcome_counts = df[\"DispositionIDDesc\"].value_counts()\n",
    "\n",
    "# Plot the distribution of outcomes\n",
    "plt.figure(figsize=(10, 6))\n",
    "sns.barplot(x=outcome_counts.index, y=outcome_counts.values)\n",
    "plt.title(\"Distribution of Outcomes for Animal Bite Cases\")\n",
    "plt.xlabel(\"Outcome\")\n",
    "plt.ylabel(\"Count\")\n",
    "plt.xticks(rotation=45)  # Rotate x-axis labels for better readability\n",
    "plt.tight_layout()\n",
    "plt.show()\n"
   ]
  },
  {
   "cell_type": "markdown",
   "id": "92603944-4944-460e-91ae-1b4d7fee8dc7",
   "metadata": {},
   "source": [
    "### Conclusion\n",
    "This code will create a bar plot showing the distribution of outcomes for animal bite cases.\n"
   ]
  }
 ],
 "metadata": {
  "kernelspec": {
   "display_name": "Python 3 (ipykernel)",
   "language": "python",
   "name": "python3"
  },
  "language_info": {
   "codemirror_mode": {
    "name": "ipython",
    "version": 3
   },
   "file_extension": ".py",
   "mimetype": "text/x-python",
   "name": "python",
   "nbconvert_exporter": "python",
   "pygments_lexer": "ipython3",
   "version": "3.12.3"
  }
 },
 "nbformat": 4,
 "nbformat_minor": 5
}
